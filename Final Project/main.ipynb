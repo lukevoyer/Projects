{
 "cells": [
  {
   "cell_type": "markdown",
   "metadata": {},
   "source": [
    "---\n",
    "##### Name: Luke Voyer  \n",
    "##### Major: IT\n",
    "##### Creation Date: 12/2/2020\n",
    "##### Due Date: 12/9/2020\n",
    "##### Course: Advanced Scientific Programming\n",
    "##### Professor Name: Dr. Schweisinger\n",
    "##### Assignment: Final Project\n",
    "##### Filename: main.ipnyb\n",
    "---"
   ]
  },
  {
   "cell_type": "markdown",
   "metadata": {},
   "source": [
    "# Introduction\n",
    "This dataet was obtained April through May of 2015. This was the time where this app was expanding most rapidly. \n",
    "At that time the iOS version of the Lovoo app was in version 3. This data was recorded using the iOS version 3 of the Lovoo app"
   ]
  },
  {
   "cell_type": "markdown",
   "metadata": {},
   "source": [
    "Below are two datasets imported from the [Lovoo](https://www.lovoo.com/) dating app including dating profiles from exlusively \n",
    "**female** users, including data such as the gender they're looking for, number of pictures on their profile, country, age, etc. (Dating App Users & Stats - Lovoo v3 - dataset by jfreex, 2020)"
   ]
  },
  {
   "cell_type": "code",
   "execution_count": 2,
   "metadata": {},
   "outputs": [],
   "source": [
    "import pandas as pd\n",
    "\n",
    "# Data points available in lovoo_v3_users_api-results.csv not available in\n",
    "# lovoo_v3_users_instances.csv:\n",
    "#      genderlooking, user pseudo, counts_fans, counts_g, country, country_1\n",
    "#      distance, isinfluencer, isnew, shareprofileenabled, birthd, freetext\n",
    "user_api_results = pd.read_csv('lovoo_v3_users_api-results.csv')\n",
    "\n",
    "# Any other field that is not in user_instances is in user_api_results,\n",
    "# and if a user_api_results field is not used, user_instances is used.\n",
    "user_instances = pd.read_csv('lovoo_v3_users_instances.csv')"
   ]
  },
  {
   "cell_type": "markdown",
   "metadata": {},
   "source": [
    "The above datasets describe slightly different data fields. 'lovoo_v3_users_api-results.csv' describes more than 'lovoo_v3_users_instances.csv' in that it has all the fields that 'lovoo_v3_users_instances.csv' has, plus the fields 'genderlooking', 'isnew', and 'birthd' that describe the gender a person is looking for in a relationship, whether a profile is considered 'new', or a user's birthday. \n",
    "\n",
    "All other fields are identical and any fields that aren't unique to 'lovoo_v3_users_api-results.csv' will be pulled from 'lovoo_v3_users_instances.csv' henceforth."
   ]
  },
  {
   "cell_type": "code",
   "execution_count": 3,
   "metadata": {},
   "outputs": [
    {
     "name": "stdout",
     "output_type": "stream",
     "text": [
      "Quantatative:\n",
      "Number of observed female Lovoo users who are under 20 years old: 369\n"
     ]
    }
   ],
   "source": [
    "# Counter variable for those under 20\n",
    "under_20 = 0\n",
    "\n",
    "# For loop to count those under 20\n",
    "for a in user_instances['age']:\n",
    "    if (a < 20):\n",
    "        under_20 += 1;\n",
    "\n",
    "# Print debug results\n",
    "print(\"Quantatative:\")\n",
    "print(\"Number of observed female Lovoo users who are under 20 years old: \" + str(under_20))"
   ]
  },
  {
   "cell_type": "markdown",
   "metadata": {},
   "source": [
    "The above steps takes the age field from the 'user_instances' table and counts those who are under the age of 20.\n",
    "Stepping through the for loop that accounts for each age of each female signed up for Lovoo, it runs the if statement that checks if that age is less than 20, and if they are...one is added to the count of those who **are** under 20"
   ]
  },
  {
   "cell_type": "code",
   "execution_count": 4,
   "metadata": {},
   "outputs": [
    {
     "name": "stdout",
     "output_type": "stream",
     "text": [
      "Categorical:\n",
      "Number of observed female Lovoo users who are looking for a straight relationship: 3561\n",
      "Number of observed female Lovoo users who are looking for a bisexual relationship: 21\n",
      "Number of observed female Lovoo users who are not looking for a relationship: 366\n"
     ]
    }
   ],
   "source": [
    "# Number of straight (F-M only), bisexual users (F-F or F-M), or females looking for friends (F-friend) on Lovoo:\n",
    "bi_relat = 0\n",
    "straight_relat = 0\n",
    "not_looking = 0\n",
    "\n",
    "# Sort and count those looking for bisexual and straight relationships\n",
    "# as well as those not looking for relationships\n",
    "for g in user_api_results['genderLooking']:\n",
    "    if (g == 'both'):\n",
    "        bi_relat += 1;\n",
    "    elif (g == 'M'):\n",
    "        straight_relat += 1;\n",
    "    elif (g == 'none'):\n",
    "        not_looking += 1;\n",
    "\n",
    "# Print debug results\n",
    "print(\"Categorical:\")\n",
    "print(\"Number of observed female Lovoo users who are looking for a straight relationship: \" + str(straight_relat))\n",
    "print(\"Number of observed female Lovoo users who are looking for a bisexual relationship: \" + str(bi_relat))\n",
    "print(\"Number of observed female Lovoo users who are not looking for a relationship: \" + str(not_looking))"
   ]
  },
  {
   "cell_type": "markdown",
   "metadata": {},
   "source": [
    "The above steps takes the unique 'genderLooking' field from the 'user_api_results' table and counts those who are either looking to be in a straight or bisexual relationship, or not looking for one at all. Stepping through the for loop that catagorizes based on thier preference, it runs the if statement that checks if that which 'bin' to put them in... and one is added to that count."
   ]
  },
  {
   "cell_type": "code",
   "execution_count": 4,
   "metadata": {},
   "outputs": [
    {
     "name": "stdout",
     "output_type": "stream",
     "text": [
      "Grouping:\n",
      "Ages where number of females observed is poorly accounted for (Count of 1): \n",
      "18 27 28 \n",
      "\n",
      "Average photos added to a profile for females age 19: 5\n",
      "Average photos added to a profile for females age 20: 5\n",
      "Average photos added to a profile for females age 21: 6\n",
      "Average photos added to a profile for females age 22: 4\n",
      "Average photos added to a profile for females age 23: 4\n",
      "Average photos added to a profile for females age 24: 4\n",
      "Average photos added to a profile for females age 25: 4\n",
      "Average photos added to a profile for females age 26: 3\n"
     ]
    }
   ],
   "source": [
    "# Variables for the mean of picture count and picture count grouped by ages of women \n",
    "sr_mean = user_instances.groupby(['age'])['counts_pictures'].mean()\n",
    "sr_count = user_instances.groupby(['age'])['counts_pictures'].count()\n",
    "\n",
    "print(\"Grouping:\")\n",
    "#Remove ages that are poorly accounted for: (Count of 1 and ony 1 instance)\n",
    "print(\"Ages where number of females observed is poorly accounted for (Count of 1): \")\n",
    "for i in sr_count[sr_count == 1].index:\n",
    "    print(i, end=\" \")\n",
    "    sr_mean = sr_mean.drop(i)\n",
    "\n",
    "print(\"\\n\")\n",
    "\n",
    "# Debug print for average count of photos for females of each observed ages\n",
    "counter  = 0;\n",
    "for i in sr_mean.index:\n",
    "    print(\"Average photos added to a profile for females age \" + str(i), end=\": \")\n",
    "    print(int(sr_mean.values[counter]))\n",
    "    counter += 1;"
   ]
  },
  {
   "cell_type": "markdown",
   "metadata": {},
   "source": [
    "The above steps takes the 'age' field from the 'user_instances' table and groups the count of photos in a profile per age. The first for loop purges data that is 'insufficiently recorded', or data that only has one data point. \n",
    "\n",
    "Stepping through the for loop that catagorizes based on thier preference, it runs the if statement that checks if that which 'bin' to put them in... and one is added to that count."
   ]
  },
  {
   "cell_type": "code",
   "execution_count": 5,
   "metadata": {},
   "outputs": [
    {
     "name": "stdout",
     "output_type": "stream",
     "text": [
      "Joining:\n",
      "Those who don't have bio's in their profiles have more views on their profiles than those who do.\n"
     ]
    }
   ],
   "source": [
    "# Join on user_api_results and _fromInstances\n",
    "api_join_instances = user_api_results.join(user_instances, lsuffix='_fromAPI', rsuffix='_fromInstances')\n",
    "\n",
    "# Varaibles to store profile visits from those who do and don't have bio's on their profiles\n",
    "count_bio_null = api_join_instances['counts_profileVisits_fromAPI'].loc[api_join_instances['whazzup_fromInstances'].isnull()].mean()\n",
    "count_bio_not_null = api_join_instances['counts_profileVisits_fromAPI'].loc[api_join_instances['whazzup_fromInstances'].notnull()].mean()\n",
    "\n",
    "print(\"Joining:\")\n",
    "# Debug prints to determine whether those who do have bio's or those who don't get more visits\n",
    "if (count_bio_null > count_bio_not_null):\n",
    "    print(\"Those who have bio's in their profiles have more views on their profiles than those who don't.\");\n",
    "else:\n",
    "    print(\"Those who don't have bio's in their profiles have more views on their profiles than those who do.\");"
   ]
  },
  {
   "cell_type": "markdown",
   "metadata": {},
   "source": [
    "The above steps takes the joined 'user_api_results' and 'user_instances' tables, then counts both profile visits those who have bio's and those who don't.\n",
    "\n",
    "Then the two are compared are an output is shown basedm on whether or not those who have bio's or those who don't get more profile views."
   ]
  },
  {
   "cell_type": "markdown",
   "metadata": {},
   "source": [
    "# Conclusion:\n",
    "\n",
    "The investigation shows multiple aspects of this dataset.\n",
    "\n",
    "This investigation shows that there are 369 users of Lovoo under 20. There are 3561 observed female Lovoo users who are looking for a straight relationship, 21 looking for a bisexual relationship, and 366 who are just looking for friends. The average amount of photos per profile can range from 3 to 6 photos on average, with 21 year olds posting the most, to 26 year olds posting the least. Lastly, this investigation shows that surprisingly, that those who don't have bio's on their profiles actually get more views than those who do.\n",
    "\n",
    "In conclusion, this dataset contains multiple types of data, with multiple different facets and values, but each find just happend to be as interesting as the last."
   ]
  },
  {
   "cell_type": "markdown",
   "metadata": {},
   "source": [
    "# Works Cited:\n",
    "\n",
    "* Dating App Users &amp; Stats - Lovoo v3 - dataset by jfreex. (2020, September 02). Retrieved December 09, 2020, from https://data.world/jfreex/dating-app-user-profiles-stats-lovoo-v3"
   ]
  }
 ],
 "metadata": {
  "kernelspec": {
   "display_name": "Python 3",
   "language": "python",
   "name": "python3"
  },
  "language_info": {
   "codemirror_mode": {
    "name": "ipython",
    "version": 3
   },
   "file_extension": ".py",
   "mimetype": "text/x-python",
   "name": "python",
   "nbconvert_exporter": "python",
   "pygments_lexer": "ipython3",
   "version": "3.8.3"
  }
 },
 "nbformat": 4,
 "nbformat_minor": 4
}
