{
 "cells": [
  {
   "cell_type": "markdown",
   "metadata": {},
   "source": [
    "Name: Luke Voyer\n",
    "\n",
    "Professor: Schwesinger\n",
    "\n",
    "Program: Data Analysis\n",
    "\n",
    "Date Created: 11/4/2020\n",
    "\n",
    "Date Due: 11/6/2020"
   ]
  },
  {
   "cell_type": "markdown",
   "metadata": {},
   "source": [
    "1. What are the names of the students that have an average GPA of 4.0?"
   ]
  },
  {
   "cell_type": "code",
   "execution_count": null,
   "metadata": {},
   "outputs": [],
   "source": [
    "import pandas as pd\n",
    "import numpy as np\n",
    "import scipy.stats\n",
    "\n",
    "def get_avg(lst):\n",
    "    average = sum(lst) / len(lst)\n",
    "    return average\n",
    "\n",
    "def get_keys(dt,val):\n",
    "    keys = []\n",
    "    for key, value in dt.items(): \n",
    "        if val == value:\n",
    "            keys.append(key)\n",
    "    return keys\n",
    "\n",
    "def get_vals(dt,ky):\n",
    "    vals = []\n",
    "    for key, value in dt.items(): \n",
    "        if ky == key:\n",
    "            vals.append(value)\n",
    "    return vals\n",
    "\n",
    "gpa_df = pd.read_csv('gpa.csv')\n",
    "grades_df = pd.read_csv('grades.csv')\n",
    "students_df = pd.read_csv('students.csv')\n",
    "teaches_df = pd.read_csv('teaches.csv')\n",
    "\n",
    "gpa_arr = np.array(gpa_df)\n",
    "gpa_dict = {a : b for a,b in gpa_arr}\n",
    "\n",
    "grades_arr = np.array(grades_df.groupby('Name'))\n",
    "grades_dict = {a : b for a,b in grades_arr}\n",
    "\n",
    "avg_rl = []\n",
    "names = []\n",
    "for x in grades_dict:\n",
    "    avg_lst = []\n",
    "    \n",
    "    avg_dict = {}\n",
    "    for y in grades_dict[x]['Grade']:\n",
    "        avg_lst.append(gpa_dict[y])\n",
    "    avg = get_avg(avg_lst)\n",
    "    avg_rl.append(avg)\n",
    "    names.append(x)\n",
    "avg_dict = dict(zip(names,avg_rl))\n",
    "\n",
    "#print('Students w/ a 4.0 Avg. GPA')\n",
    "#for i in get_keys(avg_dict,4.0):\n",
    "    #print(i)"
   ]
  },
  {
   "cell_type": "markdown",
   "metadata": {},
   "source": [
    "Answer: Carlos Ferrell,\n",
    "Juan Sherman,\n",
    "Kurt Langley,\n",
    "Linwood Nolan,\n",
    "Lupe Scott,\n",
    "Romeo Conner"
   ]
  },
  {
   "cell_type": "markdown",
   "metadata": {},
   "source": [
    "2. Do students that live on campus get better grades? Is the difference significant?"
   ]
  },
  {
   "cell_type": "code",
   "execution_count": 2,
   "metadata": {},
   "outputs": [],
   "source": [
    "stu_arr = np.array(students_df.groupby('Residence'))\n",
    "stu_dict = {a : b for a,b in stu_arr}\n",
    "    \n",
    "off_campus_gpas = []\n",
    "on_campus_gpas = []\n",
    "oncg_avg = 0.0\n",
    "ofcg_avg = 0.0\n",
    "for i in stu_dict['on campus']['Name']:\n",
    "    on_campus_gpas.append(get_vals(avg_dict,i)[0])\n",
    "oncg_avg = get_avg(on_campus_gpas)\n",
    "\n",
    "for i in stu_dict['off campus']['Name']:\n",
    "    off_campus_gpas.append(get_vals(avg_dict,i)[0])\n",
    "ofcg_avg = get_avg(off_campus_gpas)\n",
    "\n",
    "#print('On Campus GPA Average: ' + str(oncg_avg))\n",
    "#print('Off Campus GPA Average: ' + str(ofcg_avg))\n",
    "\n",
    "oncg_std = np.power(np.std(on_campus_gpas), 2)\n",
    "ofcg_std = np.power(np.std(off_campus_gpas), 2)\n",
    "\n",
    "sem_oncg = oncg_std / len(on_campus_gpas)\n",
    "sem_ofcg = ofcg_std / len(off_campus_gpas)\n",
    "\n",
    "sed = (sem_oncg)+(sem_ofcg)\n",
    "zs = sed / 2\n",
    "\n",
    "#print(\"standard error of differences: \" + str(sed))\n",
    "#print(\"z-score: \" + str(zs))\n",
    "#print('standard normal probability: -2.55')\n",
    "#snp = -2.55\n",
    "#if (snp < sed):\n",
    "    #print(\"Since the standard normal probability is less than the standard error of differences, this difference is statistically signifigant\")\n",
    "#else:\n",
    "    #print(\"Since the standard normal probability is NOT less than the standard error of differences, this difference is NOT statistically signifigant\")"
   ]
  },
  {
   "cell_type": "markdown",
   "metadata": {},
   "source": [
    "Answer: Since the standard normal probability **is** less than the standard error of differences, this difference **is** statistically signifigant"
   ]
  },
  {
   "cell_type": "markdown",
   "metadata": {},
   "source": [
    "Sources for how to test for satistical signifigance and for stastistical signifigance formulas:\n",
    "\n",
    "https://www.instructables.com/Determining-Statistical-Significance-Using-a-Z-tes-1/\n",
    "\n",
    "http://www.sixsigmastudyguide.com/wp-content/uploads/2014/04/z-table.jpg\n",
    "\n",
    "https://www.yourarticlelibrary.com/statistics-2/significance-of-the-difference-between-means-statistics/92368"
   ]
  },
  {
   "cell_type": "markdown",
   "metadata": {},
   "source": [
    "3. Which instructor tends to assign the lowest grades?"
   ]
  },
  {
   "cell_type": "code",
   "execution_count": 83,
   "metadata": {},
   "outputs": [],
   "source": [
    "teaches_arr = np.array(teaches_df.groupby('Name'))\n",
    "teaches_dict = {a : b for a,b in teaches_arr}\n",
    "lst = []\n",
    "for x in grades_dict:\n",
    "    #print(x + ':')\n",
    "    for y in grades_dict[x]['Course']:\n",
    "        for i in teaches_dict:\n",
    "            for j in teaches_dict[i]['Course']:\n",
    "                if(y == j):\n",
    "                    for k in grades_dict[x]['Course']:\n",
    "                        if k == j:\n",
    "                            grade = np.array(grades_dict[x].loc[grades_dict[x]['Course'] == k, 'Grade'])[0]\n",
    "                            course_gpa = get_vals(gpa_dict,str(grade))[0]\n",
    "                            #print(j + ': ' + str(course_gpa))"
   ]
  },
  {
   "cell_type": "markdown",
   "metadata": {},
   "source": [
    "Answer: Q3 answer goes here"
   ]
  },
  {
   "cell_type": "markdown",
   "metadata": {},
   "source": [
    "4. Do the overall grades appear to be normally distributed?"
   ]
  },
  {
   "cell_type": "code",
   "execution_count": null,
   "metadata": {},
   "outputs": [],
   "source": [
    "#Q4 code goes here"
   ]
  },
  {
   "cell_type": "markdown",
   "metadata": {},
   "source": [
    "Answer: Q4 answer goes here"
   ]
  },
  {
   "cell_type": "markdown",
   "metadata": {},
   "source": [
    "5. Make up your own (non-trivial) question and answer it.\n",
    "    \n",
    "    \"Do the majority of 4.0 GPA holders live on or off campus?\""
   ]
  },
  {
   "cell_type": "code",
   "execution_count": 92,
   "metadata": {},
   "outputs": [],
   "source": [
    "four_0_onc = 0;\n",
    "four_0_ofc = 0;\n",
    "\n",
    "for i in stu_dict['on campus']['Name']:\n",
    "    for j in get_keys(avg_dict,4.0):\n",
    "        if i == j:\n",
    "            #print(i + \"is a 4.0 GPA student and lives on campus\")\n",
    "            four_0_onc += 1;\n",
    "\n",
    "for i in stu_dict['off campus']['Name']:\n",
    "    for j in get_keys(avg_dict,4.0):\n",
    "        if i == j:\n",
    "            #print(i + \"is a 4.0 GPA student and lives off campus\")\n",
    "            four_0_ofc += 1;\n",
    "\n",
    "#if (four_0_onc > four_0_ofc):\n",
    "    #print(\"The majority of students with a 4.0 GPA live on campus\")\n",
    "#else:\n",
    "    #print(\"The majority of students with a 4.0 GPA live off campus\")"
   ]
  },
  {
   "cell_type": "markdown",
   "metadata": {},
   "source": [
    "Answer: The majority of students with a 4.0 GPA live off campus"
   ]
  },
  {
   "cell_type": "code",
   "execution_count": null,
   "metadata": {},
   "outputs": [],
   "source": []
  }
 ],
 "metadata": {
  "kernelspec": {
   "display_name": "Python 3",
   "language": "python",
   "name": "python3"
  },
  "language_info": {
   "codemirror_mode": {
    "name": "ipython",
    "version": 3
   },
   "file_extension": ".py",
   "mimetype": "text/x-python",
   "name": "python",
   "nbconvert_exporter": "python",
   "pygments_lexer": "ipython3",
   "version": "3.8.3"
  }
 },
 "nbformat": 4,
 "nbformat_minor": 4
}
