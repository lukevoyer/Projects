{
 "cells": [
  {
   "cell_type": "markdown",
   "metadata": {},
   "source": [
    "# CSC 223, Exam 2, Fall 2020\n",
    "\n",
    "## Name:"
   ]
  },
  {
   "cell_type": "code",
   "execution_count": 2,
   "metadata": {},
   "outputs": [],
   "source": [
    "import numpy as np\n",
    "import matplotlib.pyplot as plt\n",
    "import pandas as pd\n",
    "import pickle\n",
    "%matplotlib inline"
   ]
  },
  {
   "cell_type": "markdown",
   "metadata": {},
   "source": [
    "## Datasets\n",
    "\n",
    "Some of the questions refer to datasets used in previous assignments. The following cells describe the datasets and store them in Python variables. Do not mutate these variables."
   ]
  },
  {
   "cell_type": "markdown",
   "metadata": {},
   "source": [
    "### cats\n",
    "\n",
    "This is the cats dataset used for lecture examples described here: [cats](https://vincentarelbundock.github.io/Rdatasets/doc/MASS/cats.html)."
   ]
  },
  {
   "cell_type": "code",
   "execution_count": 3,
   "metadata": {},
   "outputs": [],
   "source": [
    "cats = pickle.loads(b'\\x80\\x03cpandas.core.frame\\nDataFrame\\nq\\x00)\\x81q\\x01}q\\x02(X\\x05\\x00\\x00\\x00_dataq\\x03cpandas.core.internals\\nBlockManager\\nq\\x04)\\x81q\\x05(]q\\x06(cpandas.core.indexes.base\\n_new_Index\\nq\\x07cpandas.core.indexes.base\\nIndex\\nq\\x08}q\\t(X\\x04\\x00\\x00\\x00dataq\\ncnumpy.core.multiarray\\n_reconstruct\\nq\\x0bcnumpy\\nndarray\\nq\\x0cK\\x00\\x85q\\rC\\x01bq\\x0e\\x87q\\x0fRq\\x10(K\\x01K\\x03\\x85q\\x11cnumpy\\ndtype\\nq\\x12X\\x02\\x00\\x00\\x00O8q\\x13K\\x00K\\x01\\x87q\\x14Rq\\x15(K\\x03X\\x01\\x00\\x00\\x00|q\\x16NNNJ\\xff\\xff\\xff\\xffJ\\xff\\xff\\xff\\xffK?tq\\x17b\\x89]q\\x18(X\\x03\\x00\\x00\\x00Sexq\\x19X\\x03\\x00\\x00\\x00Bwtq\\x1aX\\x03\\x00\\x00\\x00Hwtq\\x1betq\\x1cbX\\x04\\x00\\x00\\x00nameq\\x1dNu\\x86q\\x1eRq\\x1fh\\x07cpandas.core.indexes.range\\nRangeIndex\\nq }q!(h\\x1dNX\\x05\\x00\\x00\\x00startq\"K\\x00X\\x04\\x00\\x00\\x00stopq#K\\x90X\\x04\\x00\\x00\\x00stepq$K\\x01u\\x86q%Rq&e]q\\'(h\\x0bh\\x0cK\\x00\\x85q(h\\x0e\\x87q)Rq*(K\\x01K\\x02K\\x90\\x86q+h\\x12X\\x02\\x00\\x00\\x00f8q,K\\x00K\\x01\\x87q-Rq.(K\\x03X\\x01\\x00\\x00\\x00<q/NNNJ\\xff\\xff\\xff\\xffJ\\xff\\xff\\xff\\xffK\\x00tq0b\\x89B\\x00\\t\\x00\\x00\\x00\\x00\\x00\\x00\\x00\\x00\\x00@\\x00\\x00\\x00\\x00\\x00\\x00\\x00@\\x00\\x00\\x00\\x00\\x00\\x00\\x00@\\xcd\\xcc\\xcc\\xcc\\xcc\\xcc\\x00@\\xcd\\xcc\\xcc\\xcc\\xcc\\xcc\\x00@\\xcd\\xcc\\xcc\\xcc\\xcc\\xcc\\x00@\\xcd\\xcc\\xcc\\xcc\\xcc\\xcc\\x00@\\xcd\\xcc\\xcc\\xcc\\xcc\\xcc\\x00@\\xcd\\xcc\\xcc\\xcc\\xcc\\xcc\\x00@\\xcd\\xcc\\xcc\\xcc\\xcc\\xcc\\x00@\\xcd\\xcc\\xcc\\xcc\\xcc\\xcc\\x00@\\xcd\\xcc\\xcc\\xcc\\xcc\\xcc\\x00@\\x9a\\x99\\x99\\x99\\x99\\x99\\x01@\\x9a\\x99\\x99\\x99\\x99\\x99\\x01@\\x9a\\x99\\x99\\x99\\x99\\x99\\x01@\\x9a\\x99\\x99\\x99\\x99\\x99\\x01@\\x9a\\x99\\x99\\x99\\x99\\x99\\x01@\\x9a\\x99\\x99\\x99\\x99\\x99\\x01@ffffff\\x02@ffffff\\x02@ffffff\\x02@ffffff\\x02@ffffff\\x02@ffffff\\x02@ffffff\\x02@ffffff\\x02@ffffff\\x02@ffffff\\x02@ffffff\\x02@ffffff\\x02@333333\\x03@333333\\x03@333333\\x03@333333\\x03@\\x00\\x00\\x00\\x00\\x00\\x00\\x04@\\x00\\x00\\x00\\x00\\x00\\x00\\x04@\\xcd\\xcc\\xcc\\xcc\\xcc\\xcc\\x04@\\xcd\\xcc\\xcc\\xcc\\xcc\\xcc\\x04@\\xcd\\xcc\\xcc\\xcc\\xcc\\xcc\\x04@\\x9a\\x99\\x99\\x99\\x99\\x99\\x05@\\x9a\\x99\\x99\\x99\\x99\\x99\\x05@\\x9a\\x99\\x99\\x99\\x99\\x99\\x05@333333\\x07@333333\\x07@333333\\x07@\\x00\\x00\\x00\\x00\\x00\\x00\\x08@\\x00\\x00\\x00\\x00\\x00\\x00\\x08@\\x00\\x00\\x00\\x00\\x00\\x00\\x00@\\x00\\x00\\x00\\x00\\x00\\x00\\x00@\\xcd\\xcc\\xcc\\xcc\\xcc\\xcc\\x00@\\x9a\\x99\\x99\\x99\\x99\\x99\\x01@\\x9a\\x99\\x99\\x99\\x99\\x99\\x01@\\x9a\\x99\\x99\\x99\\x99\\x99\\x01@\\x9a\\x99\\x99\\x99\\x99\\x99\\x01@\\x9a\\x99\\x99\\x99\\x99\\x99\\x01@\\x9a\\x99\\x99\\x99\\x99\\x99\\x01@\\x9a\\x99\\x99\\x99\\x99\\x99\\x01@\\x9a\\x99\\x99\\x99\\x99\\x99\\x01@ffffff\\x02@333333\\x03@333333\\x03@333333\\x03@333333\\x03@333333\\x03@\\x00\\x00\\x00\\x00\\x00\\x00\\x04@\\x00\\x00\\x00\\x00\\x00\\x00\\x04@\\x00\\x00\\x00\\x00\\x00\\x00\\x04@\\x00\\x00\\x00\\x00\\x00\\x00\\x04@\\x00\\x00\\x00\\x00\\x00\\x00\\x04@\\x00\\x00\\x00\\x00\\x00\\x00\\x04@\\x00\\x00\\x00\\x00\\x00\\x00\\x04@\\x00\\x00\\x00\\x00\\x00\\x00\\x04@\\xcd\\xcc\\xcc\\xcc\\xcc\\xcc\\x04@\\xcd\\xcc\\xcc\\xcc\\xcc\\xcc\\x04@\\xcd\\xcc\\xcc\\xcc\\xcc\\xcc\\x04@\\xcd\\xcc\\xcc\\xcc\\xcc\\xcc\\x04@\\xcd\\xcc\\xcc\\xcc\\xcc\\xcc\\x04@\\xcd\\xcc\\xcc\\xcc\\xcc\\xcc\\x04@\\x9a\\x99\\x99\\x99\\x99\\x99\\x05@\\x9a\\x99\\x99\\x99\\x99\\x99\\x05@\\x9a\\x99\\x99\\x99\\x99\\x99\\x05@\\x9a\\x99\\x99\\x99\\x99\\x99\\x05@\\x9a\\x99\\x99\\x99\\x99\\x99\\x05@\\x9a\\x99\\x99\\x99\\x99\\x99\\x05@\\x9a\\x99\\x99\\x99\\x99\\x99\\x05@\\x9a\\x99\\x99\\x99\\x99\\x99\\x05@\\x9a\\x99\\x99\\x99\\x99\\x99\\x05@ffffff\\x06@ffffff\\x06@ffffff\\x06@ffffff\\x06@ffffff\\x06@ffffff\\x06@ffffff\\x06@333333\\x07@333333\\x07@333333\\x07@333333\\x07@333333\\x07@\\x00\\x00\\x00\\x00\\x00\\x00\\x08@\\x00\\x00\\x00\\x00\\x00\\x00\\x08@\\x00\\x00\\x00\\x00\\x00\\x00\\x08@\\x00\\x00\\x00\\x00\\x00\\x00\\x08@\\x00\\x00\\x00\\x00\\x00\\x00\\x08@\\x00\\x00\\x00\\x00\\x00\\x00\\x08@\\x00\\x00\\x00\\x00\\x00\\x00\\x08@\\x00\\x00\\x00\\x00\\x00\\x00\\x08@\\x00\\x00\\x00\\x00\\x00\\x00\\x08@\\xcd\\xcc\\xcc\\xcc\\xcc\\xcc\\x08@\\xcd\\xcc\\xcc\\xcc\\xcc\\xcc\\x08@\\xcd\\xcc\\xcc\\xcc\\xcc\\xcc\\x08@\\xcd\\xcc\\xcc\\xcc\\xcc\\xcc\\x08@\\xcd\\xcc\\xcc\\xcc\\xcc\\xcc\\x08@\\xcd\\xcc\\xcc\\xcc\\xcc\\xcc\\x08@\\x9a\\x99\\x99\\x99\\x99\\x99\\t@\\x9a\\x99\\x99\\x99\\x99\\x99\\t@\\x9a\\x99\\x99\\x99\\x99\\x99\\t@\\x9a\\x99\\x99\\x99\\x99\\x99\\t@\\x9a\\x99\\x99\\x99\\x99\\x99\\t@\\x9a\\x99\\x99\\x99\\x99\\x99\\t@ffffff\\n@ffffff\\n@ffffff\\n@ffffff\\n@ffffff\\n@333333\\x0b@333333\\x0b@333333\\x0b@333333\\x0b@333333\\x0b@\\x00\\x00\\x00\\x00\\x00\\x00\\x0c@\\x00\\x00\\x00\\x00\\x00\\x00\\x0c@\\x00\\x00\\x00\\x00\\x00\\x00\\x0c@\\x00\\x00\\x00\\x00\\x00\\x00\\x0c@\\x00\\x00\\x00\\x00\\x00\\x00\\x0c@\\xcd\\xcc\\xcc\\xcc\\xcc\\xcc\\x0c@\\xcd\\xcc\\xcc\\xcc\\xcc\\xcc\\x0c@\\xcd\\xcc\\xcc\\xcc\\xcc\\xcc\\x0c@\\xcd\\xcc\\xcc\\xcc\\xcc\\xcc\\x0c@\\x9a\\x99\\x99\\x99\\x99\\x99\\r@ffffff\\x0e@ffffff\\x0e@333333\\x0f@333333\\x0f@\\x00\\x00\\x00\\x00\\x00\\x00\\x1c@\\x9a\\x99\\x99\\x99\\x99\\x99\\x1d@\\x00\\x00\\x00\\x00\\x00\\x00#@\\xcd\\xcc\\xcc\\xcc\\xcc\\xcc\\x1c@333333\\x1d@ffffff\\x1e@333333 @ffffff @\\x9a\\x99\\x99\\x99\\x99\\x99 @\\x00\\x00\\x00\\x00\\x00\\x00!@ffffff!@\\x9a\\x99\\x99\\x99\\x99\\x99#@ffffff\\x1c@ffffff!@333333\"@ffffff#@\\xcd\\xcc\\xcc\\xcc\\xcc\\xcc%@\\x00\\x00\\x00\\x00\\x00\\x00&@333333\\x1d@\\x9a\\x99\\x99\\x99\\x99\\x99\\x1f@\\xcd\\xcc\\xcc\\xcc\\xcc\\xcc @\\x00\\x00\\x00\\x00\\x00\\x00\"@\\x00\\x00\\x00\\x00\\x00\\x00\"@\\x00\\x00\\x00\\x00\\x00\\x00#@333333#@ffffff#@333333$@333333$@333333%@ffffff&@333333\\x19@ffffff!@\\x9a\\x99\\x99\\x99\\x99\\x99!@ffffff$@\\x00\\x00\\x00\\x00\\x00\\x00\"@\\xcd\\xcc\\xcc\\xcc\\xcc\\xcc%@ffffff!@333333$@333333$@\\x00\\x00\\x00\\x00\\x00\\x00!@ffffff$@\\x9a\\x99\\x99\\x99\\x99\\x99%@\\xcd\\xcc\\xcc\\xcc\\xcc\\xcc#@333333$@333333$@333333%@\\x00\\x00\\x00\\x00\\x00\\x00*@\\x00\\x00\\x00\\x00\\x00\\x00\\x1a@\\x00\\x00\\x00\\x00\\x00\\x00\\x1a@333333$@\\xcd\\xcc\\xcc\\xcc\\xcc\\xcc\\x1c@ffffff\\x1e@\\x9a\\x99\\x99\\x99\\x99\\x99\\x1f@\\x00\\x00\\x00\\x00\\x00\\x00!@333333\"@333333#@333333#@ffffff%@333333#@333333\\x1d@\\x9a\\x99\\x99\\x99\\x99\\x99\\x1f@\\x9a\\x99\\x99\\x99\\x99\\x99\\x1f@333333\"@\\x9a\\x99\\x99\\x99\\x99\\x99\"@\\x9a\\x99\\x99\\x99\\x99\\x99\\x1f@333333!@\\x9a\\x99\\x99\\x99\\x99\\x99!@\\x9a\\x99\\x99\\x99\\x99\\x99!@\\x9a\\x99\\x99\\x99\\x99\\x99\"@\\x00\\x00\\x00\\x00\\x00\\x00&@ffffff)@ffffff)@\\xcd\\xcc\\xcc\\xcc\\xcc\\xcc\\x1e@\\x9a\\x99\\x99\\x99\\x99\\x99 @\\xcd\\xcc\\xcc\\xcc\\xcc\\xcc\"@\\xcd\\xcc\\xcc\\xcc\\xcc\\xcc\"@\\x00\\x00\\x00\\x00\\x00\\x00%@\\x00\\x00\\x00\\x00\\x00\\x00\\'@\\x00\\x00\\x00\\x00\\x00\\x00 @\\x00\\x00\\x00\\x00\\x00\\x00\"@333333#@333333#@\\x9a\\x99\\x99\\x99\\x99\\x99#@\\xcd\\xcc\\xcc\\xcc\\xcc\\xcc$@333333&@\\x00\\x00\\x00\\x00\\x00\\x00(@\\x00\\x00\\x00\\x00\\x00\\x00)@333333\"@\\x00\\x00\\x00\\x00\\x00\\x00$@ffffff$@\\xcd\\xcc\\xcc\\xcc\\xcc\\xcc&@\\x00\\x00\\x00\\x00\\x00\\x00(@\\x9a\\x99\\x99\\x99\\x99\\x99*@\\x00\\x00\\x00\\x00\\x00\\x00+@\\xcd\\xcc\\xcc\\xcc\\xcc\\xcc\"@333333$@333333%@\\x9a\\x99\\x99\\x99\\x99\\x99&@\\x9a\\x99\\x99\\x99\\x99\\x99\\'@\\x00\\x00\\x00\\x00\\x00\\x00$@\\xcd\\xcc\\xcc\\xcc\\xcc\\xcc$@333333%@333333\\'@ffffff(@\\xcd\\xcc\\xcc\\xcc\\xcc\\xcc(@ffffff)@\\x9a\\x99\\x99\\x99\\x99\\x99*@\\x9a\\x99\\x99\\x99\\x99\\x99+@\\xcd\\xcc\\xcc\\xcc\\xcc\\xcc#@\\x00\\x00\\x00\\x00\\x00\\x00\\'@333333(@\\x00\\x00\\x00\\x00\\x00\\x00)@\\x00\\x00\\x00\\x00\\x00\\x00*@\\x9a\\x99\\x99\\x99\\x99\\x99,@333333\\'@\\xcd\\xcc\\xcc\\xcc\\xcc\\xcc\\'@\\x9a\\x99\\x99\\x99\\x99\\x99(@\\x00\\x00\\x00\\x00\\x00\\x00*@\\x00\\x00\\x00\\x00\\x00\\x00+@333333+@\\x00\\x00\\x00\\x00\\x00\\x00\\'@\\x00\\x00\\x00\\x00\\x00\\x00(@333333,@\\xcd\\xcc\\xcc\\xcc\\xcc\\xcc-@\\xcd\\xcc\\xcc\\xcc\\xcc\\xcc.@ffffff&@ffffff(@\\xcd\\xcc\\xcc\\xcc\\xcc\\xcc(@\\x9a\\x99\\x99\\x99\\x99\\x99)@\\xcd\\xcc\\xcc\\xcc\\xcc\\xcc,@ffffff\\'@\\xcd\\xcc\\xcc\\xcc\\xcc\\xcc)@333333/@ffffff/@3333331@\\x9a\\x99\\x99\\x99\\x99\\x99\\'@\\x9a\\x99\\x99\\x99\\x99\\x99*@\\x9a\\x99\\x99\\x99\\x99\\x99-@\\x00\\x00\\x00\\x00\\x00\\x00.@\\x00\\x00\\x00\\x00\\x00\\x00&@\\x9a\\x99\\x99\\x99\\x99\\x99-@\\xcd\\xcc\\xcc\\xcc\\xcc\\xcc0@\\xcd\\xcc\\xcc\\xcc\\xcc\\xcc,@\\x00\\x00\\x00\\x00\\x00\\x804@q1tq2bh\\x0bh\\x0cK\\x00\\x85q3h\\x0e\\x87q4Rq5(K\\x01K\\x01K\\x90\\x86q6h\\x15\\x89]q7(X\\x01\\x00\\x00\\x00Fq8h8h8h8h8h8h8h8h8h8h8h8h8h8h8h8h8h8h8h8h8h8h8h8h8h8h8h8h8h8h8h8h8h8h8h8h8h8h8h8h8h8h8h8h8h8h8X\\x01\\x00\\x00\\x00Mq9h9h9h9h9h9h9h9h9h9h9h9h9h9h9h9h9h9h9h9h9h9h9h9h9h9h9h9h9h9h9h9h9h9h9h9h9h9h9h9h9h9h9h9h9h9h9h9h9h9h9h9h9h9h9h9h9h9h9h9h9h9h9h9h9h9h9h9h9h9h9h9h9h9h9h9h9h9h9h9h9h9h9h9h9h9h9h9h9h9h9h9h9h9h9h9h9etq:be]q;(h\\x07h\\x08}q<(h\\nh\\x0bh\\x0cK\\x00\\x85q=h\\x0e\\x87q>Rq?(K\\x01K\\x02\\x85q@h\\x15\\x89]qA(h\\x1ah\\x1betqBbh\\x1dNu\\x86qCRqDh\\x07h\\x08}qE(h\\nh\\x0bh\\x0cK\\x00\\x85qFh\\x0e\\x87qGRqH(K\\x01K\\x01\\x85qIh\\x15\\x89]qJh\\x19atqKbh\\x1dNu\\x86qLRqMe}qNX\\x06\\x00\\x00\\x000.14.1qO}qP(X\\x04\\x00\\x00\\x00axesqQh\\x06X\\x06\\x00\\x00\\x00blocksqR]qS(}qT(X\\x06\\x00\\x00\\x00valuesqUh*X\\x08\\x00\\x00\\x00mgr_locsqVcbuiltins\\nslice\\nqWK\\x01K\\x03K\\x01\\x87qXRqYu}qZ(hUh5hVhWK\\x00K\\x01K\\x01\\x87q[Rq\\\\ueustq]bX\\x04\\x00\\x00\\x00_typq^X\\t\\x00\\x00\\x00dataframeq_X\\t\\x00\\x00\\x00_metadataq`]qaub.')"
   ]
  },
  {
   "cell_type": "markdown",
   "metadata": {},
   "source": [
    "### toycars\n",
    "\n",
    "This is the toycars dataset from the NumPy and Basic Pandas assignments described here: [toycars](https://vincentarelbundock.github.io/Rdatasets/doc/DAAG/toycars.html). The dataset is represented as a Pandas DataFrame."
   ]
  },
  {
   "cell_type": "code",
   "execution_count": 4,
   "metadata": {},
   "outputs": [],
   "source": [
    "toycars = pickle.loads(b'\\x80\\x03cpandas.core.frame\\nDataFrame\\nq\\x00)\\x81q\\x01}q\\x02(X\\x05\\x00\\x00\\x00_dataq\\x03cpandas.core.internals\\nBlockManager\\nq\\x04)\\x81q\\x05(]q\\x06(cpandas.core.indexes.base\\n_new_Index\\nq\\x07cpandas.core.indexes.base\\nIndex\\nq\\x08}q\\t(X\\x04\\x00\\x00\\x00dataq\\ncnumpy.core.multiarray\\n_reconstruct\\nq\\x0bcnumpy\\nndarray\\nq\\x0cK\\x00\\x85q\\rC\\x01bq\\x0e\\x87q\\x0fRq\\x10(K\\x01K\\x03\\x85q\\x11cnumpy\\ndtype\\nq\\x12X\\x02\\x00\\x00\\x00O8q\\x13K\\x00K\\x01\\x87q\\x14Rq\\x15(K\\x03X\\x01\\x00\\x00\\x00|q\\x16NNNJ\\xff\\xff\\xff\\xffJ\\xff\\xff\\xff\\xffK?tq\\x17b\\x89]q\\x18(X\\x05\\x00\\x00\\x00angleq\\x19X\\x08\\x00\\x00\\x00distanceq\\x1aX\\x03\\x00\\x00\\x00carq\\x1betq\\x1cbX\\x04\\x00\\x00\\x00nameq\\x1dNu\\x86q\\x1eRq\\x1fh\\x07cpandas.core.indexes.range\\nRangeIndex\\nq }q!(h\\x1dNX\\x05\\x00\\x00\\x00startq\"K\\x00X\\x04\\x00\\x00\\x00stopq#K\\x1bX\\x04\\x00\\x00\\x00stepq$K\\x01u\\x86q%Rq&e]q\\'(h\\x0bh\\x0cK\\x00\\x85q(h\\x0e\\x87q)Rq*(K\\x01K\\x02K\\x1b\\x86q+h\\x12X\\x02\\x00\\x00\\x00f8q,K\\x00K\\x01\\x87q-Rq.(K\\x03X\\x01\\x00\\x00\\x00<q/NNNJ\\xff\\xff\\xff\\xffJ\\xff\\xff\\xff\\xffK\\x00tq0b\\x89B\\xb0\\x01\\x00\\x00\\xcd\\xcc\\xcc\\xcc\\xcc\\xcc\\xf4?\\xcd\\xcc\\xcc\\xcc\\xcc\\xcc\\xf4?\\xcd\\xcc\\xcc\\xcc\\xcc\\xcc\\xf4?\\x00\\x00\\x00\\x00\\x00\\x00\\x10@\\x00\\x00\\x00\\x00\\x00\\x00\\x10@\\x00\\x00\\x00\\x00\\x00\\x00\\x10@\\x9a\\x99\\x99\\x99\\x99\\x99\\x05@\\x9a\\x99\\x99\\x99\\x99\\x99\\x05@\\x9a\\x99\\x99\\x99\\x99\\x99\\x05@\\x9a\\x99\\x99\\x99\\x99\\x99\\x01@\\x9a\\x99\\x99\\x99\\x99\\x99\\x01@\\x9a\\x99\\x99\\x99\\x99\\x99\\x01@\\xcd\\xcc\\xcc\\xcc\\xcc\\xcc\\x0c@\\xcd\\xcc\\xcc\\xcc\\xcc\\xcc\\x0c@\\xcd\\xcc\\xcc\\xcc\\xcc\\xcc\\x0c@\\x9a\\x99\\x99\\x99\\x99\\x99\\x13@\\x9a\\x99\\x99\\x99\\x99\\x99\\x13@\\x9a\\x99\\x99\\x99\\x99\\x99\\x13@\\xcd\\xcc\\xcc\\xcc\\xcc\\xcc\\xec?\\xcd\\xcc\\xcc\\xcc\\xcc\\xcc\\xec?\\xcd\\xcc\\xcc\\xcc\\xcc\\xcc\\xec?\\x9a\\x99\\x99\\x99\\x99\\x99\\xf1?\\x9a\\x99\\x99\\x99\\x99\\x99\\xf1?\\x9a\\x99\\x99\\x99\\x99\\x99\\xf1?\\xcd\\xcc\\xcc\\xcc\\xcc\\xcc\\x08@\\xcd\\xcc\\xcc\\xcc\\xcc\\xcc\\x08@\\xcd\\xcc\\xcc\\xcc\\xcc\\xcc\\x08@\\x85\\xebQ\\xb8\\x1e\\x85\\xdb?\\xaeG\\xe1z\\x14\\xae\\xd7?H\\xe1z\\x14\\xaeG\\xd1?\\xe1z\\x14\\xaeG\\xe1\\xea?q=\\n\\xd7\\xa3p\\xed?\\x14\\xaeG\\xe1z\\x14\\xe6?\\x8f\\xc2\\xf5(\\\\\\x8f\\xe2?{\\x14\\xaeG\\xe1z\\xe4?\\x9a\\x99\\x99\\x99\\x99\\x99\\xe1?\\x8f\\xc2\\xf5(\\\\\\x8f\\xe2?ffffff\\xe6?H\\xe1z\\x14\\xaeG\\xe1?ffffff\\xe6?{\\x14\\xaeG\\xe1z\\xec?\\x1f\\x85\\xebQ\\xb8\\x1e\\xe5?\\x00\\x00\\x00\\x00\\x00\\x00\\xf0?\\xcd\\xcc\\xcc\\xcc\\xcc\\xcc\\xf4?ffffff\\xee?H\\xe1z\\x14\\xaeG\\xd1?R\\xb8\\x1e\\x85\\xebQ\\xd8?333333\\xc3?\\x8f\\xc2\\xf5(\\\\\\x8f\\xd2?\\x85\\xebQ\\xb8\\x1e\\x85\\xdb?\\xc3\\xf5(\\\\\\x8f\\xc2\\xc5?)\\\\\\x8f\\xc2\\xf5(\\xe4?\\x14\\xaeG\\xe1z\\x14\\xe6?333333\\xe3?q1tq2bh\\x0bh\\x0cK\\x00\\x85q3h\\x0e\\x87q4Rq5(K\\x01K\\x01K\\x1b\\x86q6h\\x12X\\x02\\x00\\x00\\x00i8q7K\\x00K\\x01\\x87q8Rq9(K\\x03h/NNNJ\\xff\\xff\\xff\\xffJ\\xff\\xff\\xff\\xffK\\x00tq:b\\x89C\\xd8\\x01\\x00\\x00\\x00\\x00\\x00\\x00\\x00\\x02\\x00\\x00\\x00\\x00\\x00\\x00\\x00\\x03\\x00\\x00\\x00\\x00\\x00\\x00\\x00\\x01\\x00\\x00\\x00\\x00\\x00\\x00\\x00\\x02\\x00\\x00\\x00\\x00\\x00\\x00\\x00\\x03\\x00\\x00\\x00\\x00\\x00\\x00\\x00\\x01\\x00\\x00\\x00\\x00\\x00\\x00\\x00\\x02\\x00\\x00\\x00\\x00\\x00\\x00\\x00\\x03\\x00\\x00\\x00\\x00\\x00\\x00\\x00\\x01\\x00\\x00\\x00\\x00\\x00\\x00\\x00\\x02\\x00\\x00\\x00\\x00\\x00\\x00\\x00\\x03\\x00\\x00\\x00\\x00\\x00\\x00\\x00\\x01\\x00\\x00\\x00\\x00\\x00\\x00\\x00\\x02\\x00\\x00\\x00\\x00\\x00\\x00\\x00\\x03\\x00\\x00\\x00\\x00\\x00\\x00\\x00\\x01\\x00\\x00\\x00\\x00\\x00\\x00\\x00\\x02\\x00\\x00\\x00\\x00\\x00\\x00\\x00\\x03\\x00\\x00\\x00\\x00\\x00\\x00\\x00\\x01\\x00\\x00\\x00\\x00\\x00\\x00\\x00\\x02\\x00\\x00\\x00\\x00\\x00\\x00\\x00\\x03\\x00\\x00\\x00\\x00\\x00\\x00\\x00\\x01\\x00\\x00\\x00\\x00\\x00\\x00\\x00\\x02\\x00\\x00\\x00\\x00\\x00\\x00\\x00\\x03\\x00\\x00\\x00\\x00\\x00\\x00\\x00\\x01\\x00\\x00\\x00\\x00\\x00\\x00\\x00\\x02\\x00\\x00\\x00\\x00\\x00\\x00\\x00\\x03\\x00\\x00\\x00\\x00\\x00\\x00\\x00q;tq<be]q=(h\\x07h\\x08}q>(h\\nh\\x0bh\\x0cK\\x00\\x85q?h\\x0e\\x87q@RqA(K\\x01K\\x02\\x85qBh\\x15\\x89]qC(h\\x19h\\x1aetqDbh\\x1dNu\\x86qERqFh\\x07h\\x08}qG(h\\nh\\x0bh\\x0cK\\x00\\x85qHh\\x0e\\x87qIRqJ(K\\x01K\\x01\\x85qKh\\x15\\x89]qLh\\x1batqMbh\\x1dNu\\x86qNRqOe}qPX\\x06\\x00\\x00\\x000.14.1qQ}qR(X\\x04\\x00\\x00\\x00axesqSh\\x06X\\x06\\x00\\x00\\x00blocksqT]qU(}qV(X\\x06\\x00\\x00\\x00valuesqWh*X\\x08\\x00\\x00\\x00mgr_locsqXcbuiltins\\nslice\\nqYK\\x00K\\x02K\\x01\\x87qZRq[u}q\\\\(hWh5hXhYK\\x02K\\x03K\\x01\\x87q]Rq^ueustq_bX\\x04\\x00\\x00\\x00_typq`X\\t\\x00\\x00\\x00dataframeqaX\\t\\x00\\x00\\x00_metadataqb]qcub.')"
   ]
  },
  {
   "cell_type": "markdown",
   "metadata": {},
   "source": [
    "## Question 1\n",
    "\n",
    "Write one line of code to create a numpy array of the form:\n",
    "\n",
    "```python\n",
    "array([[ 1,  2,  3,  4,  5],\n",
    "       [ 6,  7,  8,  9, 10]])\n",
    "```\n",
    "\n",
    "from the numpy array ```q1``` defined below."
   ]
  },
  {
   "cell_type": "code",
   "execution_count": 5,
   "metadata": {},
   "outputs": [
    {
     "data": {
      "text/plain": [
       "array([ 1,  2,  3,  4,  5,  6,  7,  8,  9, 10])"
      ]
     },
     "execution_count": 5,
     "metadata": {},
     "output_type": "execute_result"
    }
   ],
   "source": [
    "q1 = np.arange(1,11)\n",
    "\n",
    "# Your code here\n",
    "np.array(q1)"
   ]
  },
  {
   "cell_type": "markdown",
   "metadata": {},
   "source": [
    "## Question 2\n",
    "\n",
    "Given the numpy array ```q2```, report the sum of the even numbers using only features of the Numpy library."
   ]
  },
  {
   "cell_type": "code",
   "execution_count": 6,
   "metadata": {},
   "outputs": [
    {
     "data": {
      "text/plain": [
       "143"
      ]
     },
     "execution_count": 6,
     "metadata": {},
     "output_type": "execute_result"
    }
   ],
   "source": [
    "q2 = np.array([1, 1, 2, 3, 5, 8, 13, 21, 34, 55])\n",
    "\n",
    "# Your code here\n",
    "np_q2 = np.array(q2)\n",
    "np.sum(np_q2)"
   ]
  },
  {
   "cell_type": "markdown",
   "metadata": {},
   "source": [
    "## Question 3\n",
    "\n",
    "Write one line of code to create a 1D Numpy array containing the powers of 3 from 1 to 5 inclusive, that is, the sequence $(3^1, 3^2, \\dots, 3^{5}) = (3, 6, \\dots, 243)$. You must not use the ```np.array``` function."
   ]
  },
  {
   "cell_type": "code",
   "execution_count": 8,
   "metadata": {},
   "outputs": [
    {
     "data": {
      "text/plain": [
       "array([  3,   9,  27,  81, 243], dtype=int32)"
      ]
     },
     "execution_count": 8,
     "metadata": {},
     "output_type": "execute_result"
    }
   ],
   "source": [
    "# Your code here\n",
    "np.power(3, range(1,6))"
   ]
  },
  {
   "cell_type": "markdown",
   "metadata": {},
   "source": [
    "## Question 4\n",
    "\n",
    "Use the toycars dataset defined above to report the median distance traveled for car number 2. You must only use features of the Pandas library to produce your answer."
   ]
  },
  {
   "cell_type": "code",
   "execution_count": 19,
   "metadata": {},
   "outputs": [
    {
     "data": {
      "text/plain": [
       "0.7022222222222223"
      ]
     },
     "execution_count": 19,
     "metadata": {},
     "output_type": "execute_result"
    }
   ],
   "source": [
    "# Your code here\n",
    "toycars.loc[toycars['car'] == 2]['distance'].mean()"
   ]
  },
  {
   "cell_type": "markdown",
   "metadata": {},
   "source": [
    "## Question 5\n",
    "\n",
    "Use the toycars dataset defined above to create a Pandas Series where the index is the \"car\" column and the values are the \"distance\" column."
   ]
  },
  {
   "cell_type": "code",
   "execution_count": 60,
   "metadata": {},
   "outputs": [],
   "source": [
    "# Your code here"
   ]
  },
  {
   "cell_type": "markdown",
   "metadata": {},
   "source": [
    "# Question 6\n",
    "\n",
    "Plot the function\n",
    "\n",
    "$f(x) = x^3 - \\frac{1}{2} x$\n",
    "\n",
    "on the interval $[-1, 1]$."
   ]
  },
  {
   "cell_type": "code",
   "execution_count": 66,
   "metadata": {},
   "outputs": [],
   "source": [
    "# Your code here"
   ]
  },
  {
   "cell_type": "markdown",
   "metadata": {},
   "source": [
    "## Question 7\n",
    "\n",
    "Use the cats dataset defined above to plot a normalized histogram with 10 bins of the female cat body weights. You do not need to label the axes."
   ]
  },
  {
   "cell_type": "code",
   "execution_count": 67,
   "metadata": {},
   "outputs": [],
   "source": [
    "# Your code here"
   ]
  },
  {
   "cell_type": "markdown",
   "metadata": {},
   "source": [
    "## Question 8\n",
    "\n",
    "Create a Pandas DataFrame to represent the following table:\n",
    "\n",
    "<table>\n",
    "    <tr>\n",
    "    <th></th>\n",
    "    <th>A</th>\n",
    "    <th>B</th>\n",
    "    <th>C</th>\n",
    "    </tr>\n",
    "    <tr>\n",
    "    <td>one</td>\n",
    "    <td>10</td>\n",
    "    <td>20</td>\n",
    "    <td>30</td>\n",
    "    </tr>\n",
    "    <tr>\n",
    "    <td>two</td>\n",
    "    <td>40</td>\n",
    "    <td>50</td>\n",
    "    <td>60</td>\n",
    "</table>"
   ]
  },
  {
   "cell_type": "code",
   "execution_count": 65,
   "metadata": {},
   "outputs": [
    {
     "data": {
      "text/html": [
       "<div>\n",
       "<style scoped>\n",
       "    .dataframe tbody tr th:only-of-type {\n",
       "        vertical-align: middle;\n",
       "    }\n",
       "\n",
       "    .dataframe tbody tr th {\n",
       "        vertical-align: top;\n",
       "    }\n",
       "\n",
       "    .dataframe thead th {\n",
       "        text-align: right;\n",
       "    }\n",
       "</style>\n",
       "<table border=\"1\" class=\"dataframe\">\n",
       "  <thead>\n",
       "    <tr style=\"text-align: right;\">\n",
       "      <th></th>\n",
       "      <th>A</th>\n",
       "      <th>B</th>\n",
       "      <th>C</th>\n",
       "    </tr>\n",
       "  </thead>\n",
       "  <tbody>\n",
       "    <tr>\n",
       "      <th>one</th>\n",
       "      <td>10</td>\n",
       "      <td>20</td>\n",
       "      <td>30</td>\n",
       "    </tr>\n",
       "    <tr>\n",
       "      <th>two</th>\n",
       "      <td>40</td>\n",
       "      <td>50</td>\n",
       "      <td>60</td>\n",
       "    </tr>\n",
       "  </tbody>\n",
       "</table>\n",
       "</div>"
      ],
      "text/plain": [
       "      A   B   C\n",
       "one  10  20  30\n",
       "two  40  50  60"
      ]
     },
     "execution_count": 65,
     "metadata": {},
     "output_type": "execute_result"
    }
   ],
   "source": [
    "# Your code here\n",
    "data = [[10, 20,30], [40,50,60]] \n",
    "df = pd.DataFrame(data, columns = ['A', 'B','C'],index =['one','two']) \n",
    "df"
   ]
  },
  {
   "cell_type": "markdown",
   "metadata": {},
   "source": [
    "## Question 9\n",
    "\n",
    "\n",
    "Write one line of code using only numpy indexing operations to get a numpy array of the form:\n",
    "\n",
    "```python\n",
    "array([[ 8,  9],\n",
    "       [13, 14]])\n",
    "```\n",
    "\n",
    "from the numpy array ```q9``` defined below, which looks like this:\n",
    "```python\n",
    "array([[ 1,  2,  3,  4,  5],\n",
    "       [ 6,  7,  8,  9, 10],\n",
    "       [11, 12, 13, 14, 15]])\n",
    "```"
   ]
  },
  {
   "cell_type": "code",
   "execution_count": 12,
   "metadata": {},
   "outputs": [],
   "source": [
    "q9 = np.array([[1, 2, 3, 4, 5], [6, 7, 8, 9, 10], [11, 12, 13, 14, 15]])\n",
    "\n",
    "# Your code here\n"
   ]
  },
  {
   "cell_type": "markdown",
   "metadata": {},
   "source": [
    "## Question 10\n",
    "\n",
    "Use the cats dataset defined above to produce a Pandas Series that contains the maximum body weight and maximum heart weight in kilograms. Note that the cats dataset has the body weight measured in kilograms and the heart weight measured in grams."
   ]
  },
  {
   "cell_type": "code",
   "execution_count": 13,
   "metadata": {
    "scrolled": true
   },
   "outputs": [],
   "source": [
    "# Your code here"
   ]
  }
 ],
 "metadata": {
  "kernelspec": {
   "display_name": "Python 3",
   "language": "python",
   "name": "python3"
  },
  "language_info": {
   "codemirror_mode": {
    "name": "ipython",
    "version": 3
   },
   "file_extension": ".py",
   "mimetype": "text/x-python",
   "name": "python",
   "nbconvert_exporter": "python",
   "pygments_lexer": "ipython3",
   "version": "3.8.3"
  }
 },
 "nbformat": 4,
 "nbformat_minor": 4
}
